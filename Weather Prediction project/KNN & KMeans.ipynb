{
 "cells": [
  {
   "cell_type": "code",
   "execution_count": 1,
   "id": "7f64abc7",
   "metadata": {},
   "outputs": [],
   "source": [
    "import pandas as pd\n",
    "import matplotlib.pyplot as plt"
   ]
  },
  {
   "cell_type": "code",
   "execution_count": 2,
   "id": "6cb34c94",
   "metadata": {},
   "outputs": [
    {
     "data": {
      "text/html": [
       "<div>\n",
       "<style scoped>\n",
       "    .dataframe tbody tr th:only-of-type {\n",
       "        vertical-align: middle;\n",
       "    }\n",
       "\n",
       "    .dataframe tbody tr th {\n",
       "        vertical-align: top;\n",
       "    }\n",
       "\n",
       "    .dataframe thead th {\n",
       "        text-align: right;\n",
       "    }\n",
       "</style>\n",
       "<table border=\"1\" class=\"dataframe\">\n",
       "  <thead>\n",
       "    <tr style=\"text-align: right;\">\n",
       "      <th></th>\n",
       "      <th>TAVG</th>\n",
       "      <th>TMAX</th>\n",
       "      <th>TMIN</th>\n",
       "      <th>PRCP</th>\n",
       "    </tr>\n",
       "    <tr>\n",
       "      <th>Date</th>\n",
       "      <th></th>\n",
       "      <th></th>\n",
       "      <th></th>\n",
       "      <th></th>\n",
       "    </tr>\n",
       "  </thead>\n",
       "  <tbody>\n",
       "    <tr>\n",
       "      <th>01-01-1980</th>\n",
       "      <td>75</td>\n",
       "      <td>NaN</td>\n",
       "      <td>68.0</td>\n",
       "      <td>0.00</td>\n",
       "    </tr>\n",
       "    <tr>\n",
       "      <th>02-01-1980</th>\n",
       "      <td>74</td>\n",
       "      <td>84.0</td>\n",
       "      <td>66.0</td>\n",
       "      <td>0.00</td>\n",
       "    </tr>\n",
       "    <tr>\n",
       "      <th>03-01-1980</th>\n",
       "      <td>76</td>\n",
       "      <td>84.0</td>\n",
       "      <td>66.0</td>\n",
       "      <td>0.00</td>\n",
       "    </tr>\n",
       "    <tr>\n",
       "      <th>04-01-1980</th>\n",
       "      <td>76</td>\n",
       "      <td>86.0</td>\n",
       "      <td>68.0</td>\n",
       "      <td>0.00</td>\n",
       "    </tr>\n",
       "    <tr>\n",
       "      <th>05-01-1980</th>\n",
       "      <td>77</td>\n",
       "      <td>84.0</td>\n",
       "      <td>70.0</td>\n",
       "      <td>0.00</td>\n",
       "    </tr>\n",
       "    <tr>\n",
       "      <th>...</th>\n",
       "      <td>...</td>\n",
       "      <td>...</td>\n",
       "      <td>...</td>\n",
       "      <td>...</td>\n",
       "    </tr>\n",
       "    <tr>\n",
       "      <th>28-06-2023</th>\n",
       "      <td>90</td>\n",
       "      <td>96.0</td>\n",
       "      <td>82.0</td>\n",
       "      <td>0.00</td>\n",
       "    </tr>\n",
       "    <tr>\n",
       "      <th>29-06-2023</th>\n",
       "      <td>88</td>\n",
       "      <td>99.0</td>\n",
       "      <td>82.0</td>\n",
       "      <td>0.00</td>\n",
       "    </tr>\n",
       "    <tr>\n",
       "      <th>30-06-2023</th>\n",
       "      <td>89</td>\n",
       "      <td>100.0</td>\n",
       "      <td>80.0</td>\n",
       "      <td>0.04</td>\n",
       "    </tr>\n",
       "    <tr>\n",
       "      <th>01-07-2023</th>\n",
       "      <td>89</td>\n",
       "      <td>100.0</td>\n",
       "      <td>82.0</td>\n",
       "      <td>0.04</td>\n",
       "    </tr>\n",
       "    <tr>\n",
       "      <th>02-07-2023</th>\n",
       "      <td>85</td>\n",
       "      <td>98.0</td>\n",
       "      <td>82.0</td>\n",
       "      <td>0.00</td>\n",
       "    </tr>\n",
       "  </tbody>\n",
       "</table>\n",
       "<p>15832 rows × 4 columns</p>\n",
       "</div>"
      ],
      "text/plain": [
       "            TAVG  TMAX   TMIN  PRCP \n",
       "Date                                \n",
       "01-01-1980    75    NaN  68.0   0.00\n",
       "02-01-1980    74   84.0  66.0   0.00\n",
       "03-01-1980    76   84.0  66.0   0.00\n",
       "04-01-1980    76   86.0  68.0   0.00\n",
       "05-01-1980    77   84.0  70.0   0.00\n",
       "...          ...    ...   ...    ...\n",
       "28-06-2023    90   96.0  82.0   0.00\n",
       "29-06-2023    88   99.0  82.0   0.00\n",
       "30-06-2023    89  100.0  80.0   0.04\n",
       "01-07-2023    89  100.0  82.0   0.04\n",
       "02-07-2023    85   98.0  82.0   0.00\n",
       "\n",
       "[15832 rows x 4 columns]"
      ]
     },
     "execution_count": 2,
     "metadata": {},
     "output_type": "execute_result"
    }
   ],
   "source": [
    "weather = pd.read_csv(\"C:/Users/MUZAM/Downloads/weatherdata.csv\", index_col=\"Date\")\n",
    "weather = weather.ffill()\n",
    "weather"
   ]
  },
  {
   "cell_type": "code",
   "execution_count": 3,
   "id": "1e102077",
   "metadata": {},
   "outputs": [
    {
     "data": {
      "text/plain": [
       "DatetimeIndex(['1980-01-01', '1980-02-01', '1980-03-01', '1980-04-01',\n",
       "               '1980-05-01', '1980-06-01', '1980-07-01', '1980-08-01',\n",
       "               '1980-09-01', '1980-10-01',\n",
       "               ...\n",
       "               '2023-06-23', '2023-06-24', '2023-06-25', '2023-06-26',\n",
       "               '2023-06-27', '2023-06-28', '2023-06-29', '2023-06-30',\n",
       "               '2023-01-07', '2023-02-07'],\n",
       "              dtype='datetime64[ns]', name='Date', length=15832, freq=None)"
      ]
     },
     "execution_count": 3,
     "metadata": {},
     "output_type": "execute_result"
    }
   ],
   "source": [
    "weather = weather.ffill()\n",
    "weather.index = pd.to_datetime(weather.index)\n",
    "weather.index"
   ]
  },
  {
   "cell_type": "code",
   "execution_count": 4,
   "id": "5663bd38",
   "metadata": {},
   "outputs": [
    {
     "data": {
      "text/html": [
       "<div>\n",
       "<style scoped>\n",
       "    .dataframe tbody tr th:only-of-type {\n",
       "        vertical-align: middle;\n",
       "    }\n",
       "\n",
       "    .dataframe tbody tr th {\n",
       "        vertical-align: top;\n",
       "    }\n",
       "\n",
       "    .dataframe thead th {\n",
       "        text-align: right;\n",
       "    }\n",
       "</style>\n",
       "<table border=\"1\" class=\"dataframe\">\n",
       "  <thead>\n",
       "    <tr style=\"text-align: right;\">\n",
       "      <th></th>\n",
       "      <th>TAVG</th>\n",
       "      <th>TMAX</th>\n",
       "      <th>TMIN</th>\n",
       "      <th>PRCP</th>\n",
       "      <th>target</th>\n",
       "    </tr>\n",
       "    <tr>\n",
       "      <th>Date</th>\n",
       "      <th></th>\n",
       "      <th></th>\n",
       "      <th></th>\n",
       "      <th></th>\n",
       "      <th></th>\n",
       "    </tr>\n",
       "  </thead>\n",
       "  <tbody>\n",
       "    <tr>\n",
       "      <th>1980-01-01</th>\n",
       "      <td>75</td>\n",
       "      <td>NaN</td>\n",
       "      <td>68.0</td>\n",
       "      <td>0.00</td>\n",
       "      <td>84.0</td>\n",
       "    </tr>\n",
       "    <tr>\n",
       "      <th>1980-02-01</th>\n",
       "      <td>74</td>\n",
       "      <td>84.0</td>\n",
       "      <td>66.0</td>\n",
       "      <td>0.00</td>\n",
       "      <td>84.0</td>\n",
       "    </tr>\n",
       "    <tr>\n",
       "      <th>1980-03-01</th>\n",
       "      <td>76</td>\n",
       "      <td>84.0</td>\n",
       "      <td>66.0</td>\n",
       "      <td>0.00</td>\n",
       "      <td>86.0</td>\n",
       "    </tr>\n",
       "    <tr>\n",
       "      <th>1980-04-01</th>\n",
       "      <td>76</td>\n",
       "      <td>86.0</td>\n",
       "      <td>68.0</td>\n",
       "      <td>0.00</td>\n",
       "      <td>84.0</td>\n",
       "    </tr>\n",
       "    <tr>\n",
       "      <th>1980-05-01</th>\n",
       "      <td>77</td>\n",
       "      <td>84.0</td>\n",
       "      <td>70.0</td>\n",
       "      <td>0.00</td>\n",
       "      <td>84.0</td>\n",
       "    </tr>\n",
       "    <tr>\n",
       "      <th>...</th>\n",
       "      <td>...</td>\n",
       "      <td>...</td>\n",
       "      <td>...</td>\n",
       "      <td>...</td>\n",
       "      <td>...</td>\n",
       "    </tr>\n",
       "    <tr>\n",
       "      <th>2023-06-28</th>\n",
       "      <td>90</td>\n",
       "      <td>96.0</td>\n",
       "      <td>82.0</td>\n",
       "      <td>0.00</td>\n",
       "      <td>99.0</td>\n",
       "    </tr>\n",
       "    <tr>\n",
       "      <th>2023-06-29</th>\n",
       "      <td>88</td>\n",
       "      <td>99.0</td>\n",
       "      <td>82.0</td>\n",
       "      <td>0.00</td>\n",
       "      <td>100.0</td>\n",
       "    </tr>\n",
       "    <tr>\n",
       "      <th>2023-06-30</th>\n",
       "      <td>89</td>\n",
       "      <td>100.0</td>\n",
       "      <td>80.0</td>\n",
       "      <td>0.04</td>\n",
       "      <td>100.0</td>\n",
       "    </tr>\n",
       "    <tr>\n",
       "      <th>2023-01-07</th>\n",
       "      <td>89</td>\n",
       "      <td>100.0</td>\n",
       "      <td>82.0</td>\n",
       "      <td>0.04</td>\n",
       "      <td>98.0</td>\n",
       "    </tr>\n",
       "    <tr>\n",
       "      <th>2023-02-07</th>\n",
       "      <td>85</td>\n",
       "      <td>98.0</td>\n",
       "      <td>82.0</td>\n",
       "      <td>0.00</td>\n",
       "      <td>NaN</td>\n",
       "    </tr>\n",
       "  </tbody>\n",
       "</table>\n",
       "<p>15832 rows × 5 columns</p>\n",
       "</div>"
      ],
      "text/plain": [
       "            TAVG  TMAX   TMIN  PRCP   target\n",
       "Date                                        \n",
       "1980-01-01    75    NaN  68.0   0.00    84.0\n",
       "1980-02-01    74   84.0  66.0   0.00    84.0\n",
       "1980-03-01    76   84.0  66.0   0.00    86.0\n",
       "1980-04-01    76   86.0  68.0   0.00    84.0\n",
       "1980-05-01    77   84.0  70.0   0.00    84.0\n",
       "...          ...    ...   ...    ...     ...\n",
       "2023-06-28    90   96.0  82.0   0.00    99.0\n",
       "2023-06-29    88   99.0  82.0   0.00   100.0\n",
       "2023-06-30    89  100.0  80.0   0.04   100.0\n",
       "2023-01-07    89  100.0  82.0   0.04    98.0\n",
       "2023-02-07    85   98.0  82.0   0.00     NaN\n",
       "\n",
       "[15832 rows x 5 columns]"
      ]
     },
     "execution_count": 4,
     "metadata": {},
     "output_type": "execute_result"
    }
   ],
   "source": [
    "weather[\"target\"]=weather.shift(-1)[\"TMAX \"]\n",
    "weather"
   ]
  },
  {
   "cell_type": "code",
   "execution_count": 5,
   "id": "7c8dcbe7",
   "metadata": {},
   "outputs": [
    {
     "data": {
      "text/html": [
       "<div>\n",
       "<style scoped>\n",
       "    .dataframe tbody tr th:only-of-type {\n",
       "        vertical-align: middle;\n",
       "    }\n",
       "\n",
       "    .dataframe tbody tr th {\n",
       "        vertical-align: top;\n",
       "    }\n",
       "\n",
       "    .dataframe thead th {\n",
       "        text-align: right;\n",
       "    }\n",
       "</style>\n",
       "<table border=\"1\" class=\"dataframe\">\n",
       "  <thead>\n",
       "    <tr style=\"text-align: right;\">\n",
       "      <th></th>\n",
       "      <th>TAVG</th>\n",
       "      <th>TMAX</th>\n",
       "      <th>TMIN</th>\n",
       "      <th>PRCP</th>\n",
       "      <th>target</th>\n",
       "    </tr>\n",
       "    <tr>\n",
       "      <th>Date</th>\n",
       "      <th></th>\n",
       "      <th></th>\n",
       "      <th></th>\n",
       "      <th></th>\n",
       "      <th></th>\n",
       "    </tr>\n",
       "  </thead>\n",
       "  <tbody>\n",
       "    <tr>\n",
       "      <th>1980-01-01</th>\n",
       "      <td>75</td>\n",
       "      <td>92.700335</td>\n",
       "      <td>68.0</td>\n",
       "      <td>0.00</td>\n",
       "      <td>84.000000</td>\n",
       "    </tr>\n",
       "    <tr>\n",
       "      <th>1980-02-01</th>\n",
       "      <td>74</td>\n",
       "      <td>84.000000</td>\n",
       "      <td>66.0</td>\n",
       "      <td>0.00</td>\n",
       "      <td>84.000000</td>\n",
       "    </tr>\n",
       "    <tr>\n",
       "      <th>1980-03-01</th>\n",
       "      <td>76</td>\n",
       "      <td>84.000000</td>\n",
       "      <td>66.0</td>\n",
       "      <td>0.00</td>\n",
       "      <td>86.000000</td>\n",
       "    </tr>\n",
       "    <tr>\n",
       "      <th>1980-04-01</th>\n",
       "      <td>76</td>\n",
       "      <td>86.000000</td>\n",
       "      <td>68.0</td>\n",
       "      <td>0.00</td>\n",
       "      <td>84.000000</td>\n",
       "    </tr>\n",
       "    <tr>\n",
       "      <th>1980-05-01</th>\n",
       "      <td>77</td>\n",
       "      <td>84.000000</td>\n",
       "      <td>70.0</td>\n",
       "      <td>0.00</td>\n",
       "      <td>84.000000</td>\n",
       "    </tr>\n",
       "    <tr>\n",
       "      <th>...</th>\n",
       "      <td>...</td>\n",
       "      <td>...</td>\n",
       "      <td>...</td>\n",
       "      <td>...</td>\n",
       "      <td>...</td>\n",
       "    </tr>\n",
       "    <tr>\n",
       "      <th>2023-06-28</th>\n",
       "      <td>90</td>\n",
       "      <td>96.000000</td>\n",
       "      <td>82.0</td>\n",
       "      <td>0.00</td>\n",
       "      <td>99.000000</td>\n",
       "    </tr>\n",
       "    <tr>\n",
       "      <th>2023-06-29</th>\n",
       "      <td>88</td>\n",
       "      <td>99.000000</td>\n",
       "      <td>82.0</td>\n",
       "      <td>0.00</td>\n",
       "      <td>100.000000</td>\n",
       "    </tr>\n",
       "    <tr>\n",
       "      <th>2023-06-30</th>\n",
       "      <td>89</td>\n",
       "      <td>100.000000</td>\n",
       "      <td>80.0</td>\n",
       "      <td>0.04</td>\n",
       "      <td>100.000000</td>\n",
       "    </tr>\n",
       "    <tr>\n",
       "      <th>2023-01-07</th>\n",
       "      <td>89</td>\n",
       "      <td>100.000000</td>\n",
       "      <td>82.0</td>\n",
       "      <td>0.04</td>\n",
       "      <td>98.000000</td>\n",
       "    </tr>\n",
       "    <tr>\n",
       "      <th>2023-02-07</th>\n",
       "      <td>85</td>\n",
       "      <td>98.000000</td>\n",
       "      <td>82.0</td>\n",
       "      <td>0.00</td>\n",
       "      <td>92.700335</td>\n",
       "    </tr>\n",
       "  </tbody>\n",
       "</table>\n",
       "<p>15832 rows × 5 columns</p>\n",
       "</div>"
      ],
      "text/plain": [
       "            TAVG       TMAX   TMIN  PRCP       target\n",
       "Date                                                 \n",
       "1980-01-01    75   92.700335  68.0   0.00   84.000000\n",
       "1980-02-01    74   84.000000  66.0   0.00   84.000000\n",
       "1980-03-01    76   84.000000  66.0   0.00   86.000000\n",
       "1980-04-01    76   86.000000  68.0   0.00   84.000000\n",
       "1980-05-01    77   84.000000  70.0   0.00   84.000000\n",
       "...          ...         ...   ...    ...         ...\n",
       "2023-06-28    90   96.000000  82.0   0.00   99.000000\n",
       "2023-06-29    88   99.000000  82.0   0.00  100.000000\n",
       "2023-06-30    89  100.000000  80.0   0.04  100.000000\n",
       "2023-01-07    89  100.000000  82.0   0.04   98.000000\n",
       "2023-02-07    85   98.000000  82.0   0.00   92.700335\n",
       "\n",
       "[15832 rows x 5 columns]"
      ]
     },
     "execution_count": 5,
     "metadata": {},
     "output_type": "execute_result"
    }
   ],
   "source": [
    "weather = weather.fillna(weather.mean())\n",
    "weather"
   ]
  },
  {
   "cell_type": "markdown",
   "id": "d2ca1f8a",
   "metadata": {},
   "source": [
    "# KNN "
   ]
  },
  {
   "cell_type": "code",
   "execution_count": 7,
   "id": "1adcc6e8",
   "metadata": {},
   "outputs": [
    {
     "name": "stdout",
     "output_type": "stream",
     "text": [
      "       Predicted  Actual  Diff\n",
      "0           64.0    68.0  -4.0\n",
      "1           68.6    66.0   2.6\n",
      "2           69.8    66.0   3.8\n",
      "3           69.2    68.0   1.2\n",
      "4           69.4    70.0  -0.6\n",
      "...          ...     ...   ...\n",
      "15827       80.6    82.0  -1.4\n",
      "15828       79.8    82.0  -2.2\n",
      "15829       81.8    80.0   1.8\n",
      "15830       81.8    82.0  -0.2\n",
      "15831       79.0    82.0  -3.0\n",
      "\n",
      "[15832 rows x 3 columns]\n",
      "Mean Squared Error: 5.318335017685699\n"
     ]
    }
   ],
   "source": [
    "import numpy as np\n",
    "import pandas as pd\n",
    "from sklearn.neighbors import KNeighborsRegressor\n",
    "from sklearn.metrics import mean_squared_error\n",
    "X_train = np.array([[weather['TMAX '][i], weather['TAVG'][i]] for i in range(len(weather['TMAX ']))])\n",
    "y_train = np.array(weather['TMIN'])\n",
    "model = KNeighborsRegressor(n_neighbors=5)  \n",
    "model.fit(X_train, y_train)\n",
    "X_test = np.array([[weather['TMAX '][i], weather['TAVG'][i]] for i in range(len(weather['TMAX ']))])\n",
    "y_pred = model.predict(X_test)\n",
    "mse = mean_squared_error(y_train, y_pred)\n",
    "df = pd.DataFrame({'Predicted': y_pred, 'Actual': y_train, 'Diff': y_pred - y_train})\n",
    "print(df)\n",
    "print(\"Mean Squared Error:\", mse)"
   ]
  },
  {
   "cell_type": "code",
   "execution_count": 9,
   "id": "707f20b9",
   "metadata": {},
   "outputs": [
    {
     "name": "stdout",
     "output_type": "stream",
     "text": [
      "R-squared: 0.7599735354254148\n",
      "Mean Absolute Error: 1.7662076806467912\n",
      "Root Mean Squared Error: 2.3061515599989737\n"
     ]
    }
   ],
   "source": [
    "from sklearn.metrics import r2_score, mean_absolute_error, mean_squared_error\n",
    "r2 = r2_score(y_train, y_pred)\n",
    "mae = mean_absolute_error(y_train, y_pred)\n",
    "rmse = np.sqrt(mean_squared_error(y_train, y_pred))\n",
    "print(\"R-squared:\", r2)\n",
    "print(\"Mean Absolute Error:\", mae)\n",
    "print(\"Root Mean Squared Error:\", rmse)"
   ]
  },
  {
   "cell_type": "code",
   "execution_count": 10,
   "id": "f8930e90",
   "metadata": {},
   "outputs": [
    {
     "data": {
      "image/png": "[encoded data removed]",
      "text/plain": [
       "<Figure size 432x288 with 1 Axes>"
      ]
     },
     "metadata": {
      "needs_background": "light"
     },
     "output_type": "display_data"
    }
   ],
   "source": [
    "import matplotlib.pyplot as plt\n",
    "plt.scatter(y_train, y_pred, color='blue', label='Predicted')\n",
    "plt.plot(y_train, y_train, color='red', linestyle='--', label='Actual')\n",
    "plt.xlabel('Actual')\n",
    "plt.ylabel('Predicted')\n",
    "plt.title('KNN Regression: Predicted vs Actual')\n",
    "plt.legend()\n",
    "plt.show()"
   ]
  },
  {
   "cell_type": "markdown",
   "id": "c7e0bb90",
   "metadata": {},
   "source": [
    " # K-MEANS"
   ]
  },
  {
   "cell_type": "code",
   "execution_count": 11,
   "id": "e9fafa47",
   "metadata": {},
   "outputs": [
    {
     "name": "stdout",
     "output_type": "stream",
     "text": [
      "                  TMAX  TAVG  TMIN  Cluster\n",
      "Date                                       \n",
      "1980-01-01   92.700335    75  68.0        0\n",
      "1980-02-01   84.000000    74  66.0        2\n",
      "1980-03-01   84.000000    76  66.0        2\n",
      "1980-04-01   86.000000    76  68.0        2\n",
      "1980-05-01   84.000000    77  70.0        2\n",
      "...                ...   ...   ...      ...\n",
      "2023-06-28   96.000000    90  82.0        1\n",
      "2023-06-29   99.000000    88  82.0        1\n",
      "2023-06-30  100.000000    89  80.0        1\n",
      "2023-01-07  100.000000    89  82.0        1\n",
      "2023-02-07   98.000000    85  82.0        1\n",
      "\n",
      "[15832 rows x 4 columns]\n"
     ]
    }
   ],
   "source": [
    "import numpy as np\n",
    "import pandas as pd\n",
    "from sklearn.cluster import KMeans\n",
    "X_train = np.array([[weather['TMAX '][i], weather['TAVG'][i]] for i in range(len(weather['TMAX ']))])\n",
    "y_train = np.array(weather['TMIN'])\n",
    "model = KMeans(n_clusters=5)  \n",
    "model.fit(X_train)\n",
    "cluster_labels = model.predict(X_train)\n",
    "df = pd.DataFrame({'TMAX': weather['TMAX '], 'TAVG': weather['TAVG'], 'TMIN': y_train, 'Cluster': cluster_labels})\n",
    "print(df)"
   ]
  },
  {
   "cell_type": "code",
   "execution_count": 12,
   "id": "39139f59",
   "metadata": {},
   "outputs": [
    {
     "name": "stdout",
     "output_type": "stream",
     "text": [
      "Silhouette Score: 0.4045749052048972\n"
     ]
    }
   ],
   "source": [
    "from sklearn.metrics import silhouette_score\n",
    "silhouette_avg = silhouette_score(X_train, cluster_labels)\n",
    "print(\"Silhouette Score:\", silhouette_avg)\n"
   ]
  },
  {
   "cell_type": "code",
   "execution_count": 13,
   "id": "a72cd271",
   "metadata": {},
   "outputs": [
    {
     "name": "stdout",
     "output_type": "stream",
     "text": [
      "Inertia: 102349.48647217458\n"
     ]
    }
   ],
   "source": [
    "inertia = model.inertia_\n",
    "print(\"Inertia:\", inertia)\n"
   ]
  },
  {
   "cell_type": "code",
   "execution_count": 15,
   "id": "c03da8f8",
   "metadata": {},
   "outputs": [
    {
     "data": {
      "image/png": "[encoded data removed]",
      "text/plain": [
       "<Figure size 432x288 with 2 Axes>"
      ]
     },
     "metadata": {
      "needs_background": "light"
     },
     "output_type": "display_data"
    }
   ],
   "source": [
    "import matplotlib.pyplot as plt\n",
    "plt.scatter(X_train[:, 0], X_train[:, 1], c=cluster_labels, cmap='viridis')\n",
    "plt.xlabel('TMAX')\n",
    "plt.ylabel('TAVG')\n",
    "plt.title('K-Means Clustering')\n",
    "plt.colorbar(label='Cluster')\n",
    "plt.show()"
   ]
  },
  {
   "cell_type": "code",
   "execution_count": null,
   "id": "853e84b4",
   "metadata": {},
   "outputs": [],
   "source": []
  }
 ],
 "metadata": {
  "kernelspec": {
   "display_name": "Python 3 (ipykernel)",
   "language": "python",
   "name": "python3"
  },
  "language_info": {
   "codemirror_mode": {
    "name": "ipython",
    "version": 3
   },
   "file_extension": ".py",
   "mimetype": "text/x-python",
   "name": "python",
   "nbconvert_exporter": "python",
   "pygments_lexer": "ipython3",
   "version": "3.9.7"
  }
 },
 "nbformat": 4,
 "nbformat_minor": 5
}
